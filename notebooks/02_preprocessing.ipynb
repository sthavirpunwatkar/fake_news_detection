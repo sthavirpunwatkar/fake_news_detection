{
 "cells": [
  {
   "cell_type": "code",
   "execution_count": 2,
   "id": "283cb485-914c-4923-8f5f-8b2c97a36a9d",
   "metadata": {},
   "outputs": [],
   "source": [
    "# Fake News Classifier - Preprocessing & Feature Extraction\n",
    "\n",
    "# Now that we have the combined dataset, we’ll:\n",
    "\n",
    "# 1. Load the dataset we saved earlier\n",
    "# 2. Clean the text (remove stopwords, punctuation, lowercase)\n",
    "# 3. Tokenize words\n",
    "# 4. Convert text into numerical features using **TF-IDF Vectorizer**\n"
   ]
  },
  {
   "cell_type": "code",
   "execution_count": 4,
   "id": "84a1d096-1a04-4546-be6e-8db94a380f65",
   "metadata": {},
   "outputs": [
    {
     "name": "stderr",
     "output_type": "stream",
     "text": [
      "[nltk_data] Downloading package stopwords to\n",
      "[nltk_data]     C:\\Users\\punwa\\AppData\\Roaming\\nltk_data...\n",
      "[nltk_data]   Package stopwords is already up-to-date!\n"
     ]
    }
   ],
   "source": [
    "import pandas as pd\n",
    "import numpy as np\n",
    "import string\n",
    "import nltk\n",
    "from sklearn.feature_extraction.text import TfidfVectorizer\n",
    "\n",
    "#download stopwords\n",
    "nltk.download(\"stopwords\")\n",
    "from nltk.corpus import stopwords\n",
    "\n",
    "stop_words = set(stopwords.words(\"english\"))\n"
   ]
  },
  {
   "cell_type": "code",
   "execution_count": 5,
   "id": "88e54910-9b41-4a6a-82e5-ebddc3abbd37",
   "metadata": {},
   "outputs": [
    {
     "name": "stdout",
     "output_type": "stream",
     "text": [
      "198\n"
     ]
    }
   ],
   "source": [
    "print(len(stop_words))"
   ]
  },
  {
   "cell_type": "code",
   "execution_count": 7,
   "id": "344fb175-b6df-4a9b-a3fd-4ad275904cbc",
   "metadata": {},
   "outputs": [
    {
     "data": {
      "text/html": [
       "<div>\n",
       "<style scoped>\n",
       "    .dataframe tbody tr th:only-of-type {\n",
       "        vertical-align: middle;\n",
       "    }\n",
       "\n",
       "    .dataframe tbody tr th {\n",
       "        vertical-align: top;\n",
       "    }\n",
       "\n",
       "    .dataframe thead th {\n",
       "        text-align: right;\n",
       "    }\n",
       "</style>\n",
       "<table border=\"1\" class=\"dataframe\">\n",
       "  <thead>\n",
       "    <tr style=\"text-align: right;\">\n",
       "      <th></th>\n",
       "      <th>title</th>\n",
       "      <th>text</th>\n",
       "      <th>subject</th>\n",
       "      <th>date</th>\n",
       "      <th>label</th>\n",
       "    </tr>\n",
       "  </thead>\n",
       "  <tbody>\n",
       "    <tr>\n",
       "      <th>0</th>\n",
       "      <td>Boiler Room #93 – The Outgoing Head of Hydra</td>\n",
       "      <td>Tune in to the Alternate Current Radio Network...</td>\n",
       "      <td>US_News</td>\n",
       "      <td>January 19, 2017</td>\n",
       "      <td>0</td>\n",
       "    </tr>\n",
       "    <tr>\n",
       "      <th>1</th>\n",
       "      <td>Britain's May heads to Middle East</td>\n",
       "      <td>LONDON (Reuters) - British Prime Minister Ther...</td>\n",
       "      <td>worldnews</td>\n",
       "      <td>November 28, 2017</td>\n",
       "      <td>1</td>\n",
       "    </tr>\n",
       "    <tr>\n",
       "      <th>2</th>\n",
       "      <td>FAMILY OF S.C. SHOOTING VICTIM HAS A MESSAGE F...</td>\n",
       "      <td>Poor little Al if he s not race baiting, he s ...</td>\n",
       "      <td>politics</td>\n",
       "      <td>Apr 9, 2015</td>\n",
       "      <td>0</td>\n",
       "    </tr>\n",
       "    <tr>\n",
       "      <th>3</th>\n",
       "      <td>Venezuelan crisis spawns boom in gambling</td>\n",
       "      <td>CARACAS (Reuters) -  The Whale ,  The Dog  or ...</td>\n",
       "      <td>worldnews</td>\n",
       "      <td>November 7, 2017</td>\n",
       "      <td>1</td>\n",
       "    </tr>\n",
       "    <tr>\n",
       "      <th>4</th>\n",
       "      <td>N KOREA JUST REVEALED Plans To Unleash An Unim...</td>\n",
       "      <td>WFB  North Korea for the first time this week ...</td>\n",
       "      <td>left-news</td>\n",
       "      <td>Sep 6, 2017</td>\n",
       "      <td>0</td>\n",
       "    </tr>\n",
       "  </tbody>\n",
       "</table>\n",
       "</div>"
      ],
      "text/plain": [
       "                                               title  \\\n",
       "0       Boiler Room #93 – The Outgoing Head of Hydra   \n",
       "1                 Britain's May heads to Middle East   \n",
       "2  FAMILY OF S.C. SHOOTING VICTIM HAS A MESSAGE F...   \n",
       "3          Venezuelan crisis spawns boom in gambling   \n",
       "4  N KOREA JUST REVEALED Plans To Unleash An Unim...   \n",
       "\n",
       "                                                text    subject  \\\n",
       "0  Tune in to the Alternate Current Radio Network...    US_News   \n",
       "1  LONDON (Reuters) - British Prime Minister Ther...  worldnews   \n",
       "2  Poor little Al if he s not race baiting, he s ...   politics   \n",
       "3  CARACAS (Reuters) -  The Whale ,  The Dog  or ...  worldnews   \n",
       "4  WFB  North Korea for the first time this week ...  left-news   \n",
       "\n",
       "                 date  label  \n",
       "0    January 19, 2017      0  \n",
       "1  November 28, 2017       1  \n",
       "2         Apr 9, 2015      0  \n",
       "3   November 7, 2017       1  \n",
       "4         Sep 6, 2017      0  "
      ]
     },
     "execution_count": 7,
     "metadata": {},
     "output_type": "execute_result"
    }
   ],
   "source": [
    "#Load clean dataset\n",
    "news_df = pd.read_csv(\"./data/combined_news.csv\")\n",
    "news_df.head()"
   ]
  },
  {
   "cell_type": "code",
   "execution_count": 23,
   "id": "960fa4a8-cc92-433e-a5ea-1b69c554084e",
   "metadata": {},
   "outputs": [
    {
     "name": "stdout",
     "output_type": "stream",
     "text": [
      "                                               title  \\\n",
      "0       Boiler Room #93 – The Outgoing Head of Hydra   \n",
      "1                 Britain's May heads to Middle East   \n",
      "2  FAMILY OF S.C. SHOOTING VICTIM HAS A MESSAGE F...   \n",
      "3          Venezuelan crisis spawns boom in gambling   \n",
      "4  N KOREA JUST REVEALED Plans To Unleash An Unim...   \n",
      "\n",
      "                                         clean_title  \n",
      "0               boiler room 93 – outgoing head hydra  \n",
      "1                     britains may heads middle east  \n",
      "2  family sc shooting victim message al sharpton ...  \n",
      "3             venezuelan crisis spawns boom gambling  \n",
      "4  n korea revealed plans unleash unimaginable at...  \n"
     ]
    }
   ],
   "source": [
    "#text cleaning\n",
    "\n",
    "def clean_text(text):\n",
    "    text =  text.lower()\n",
    "    text = text.translate(str.maketrans(\"\",\"\",string.punctuation))  #remove punctuation\n",
    "    words = text.split()\n",
    "    words = [w for w in words if w not in stop_words] #remove stopwords\n",
    "    return  \" \".join(words)\n",
    "\n",
    "# Apply cleaning to create the new column\n",
    "news_df[\"clean_title\"] = news_df[\"title\"].apply(clean_text)\n",
    "\n",
    "# Verify\n",
    "print(news_df[[\"title\", \"clean_title\"]].head())"
   ]
  },
  {
   "cell_type": "code",
   "execution_count": 28,
   "id": "0f29d82d-a076-497d-8044-c624f7180bc4",
   "metadata": {},
   "outputs": [
    {
     "name": "stdout",
     "output_type": "stream",
     "text": [
      "Feature Matrix Shape: (44898, 5000)\n"
     ]
    }
   ],
   "source": [
    "# Convert text into numerical features\n",
    "vectorizer = TfidfVectorizer(max_features=5000)  # limit to top 5000 words\n",
    "X = vectorizer.fit_transform(news_df[\"clean_title\"]).toarray()\n",
    "y = news_df[\"label\"].values\n",
    "\n",
    "print(\"Feature Matrix Shape:\", X.shape)"
   ]
  },
  {
   "cell_type": "code",
   "execution_count": 30,
   "id": "ce1d7769-932d-4df8-b994-45c3f95c8631",
   "metadata": {},
   "outputs": [
    {
     "name": "stdout",
     "output_type": "stream",
     "text": [
      "Training Set: (35918, 5000)\n",
      "Testing Set: (8980,)\n"
     ]
    }
   ],
   "source": [
    "# split data\n",
    "\n",
    "from sklearn.model_selection import train_test_split\n",
    "\n",
    "X_train, X_test, y_train, y_test = train_test_split(\n",
    "    X,y, test_size = 0.2, random_state =42\n",
    ")\n",
    "\n",
    "print(\"Training Set:\",  X_train.shape)\n",
    "print(\"Testing Set:\", y_test.shape)"
   ]
  },
  {
   "cell_type": "code",
   "execution_count": 31,
   "id": "c333e3eb-40c3-4015-b398-ffbaacd455c8",
   "metadata": {},
   "outputs": [],
   "source": [
    "# Save for model training notebook\n",
    "np.save(\"./data/X_train.npy\", X_train)\n",
    "np.save(\"./data/X_test.npy\", X_test)\n",
    "np.save(\"./data/y_train.npy\", y_train)\n",
    "np.save(\"./data/y_test.npy\", y_test)"
   ]
  }
 ],
 "metadata": {
  "kernelspec": {
   "display_name": "Python 3 (ipykernel)",
   "language": "python",
   "name": "python3"
  },
  "language_info": {
   "codemirror_mode": {
    "name": "ipython",
    "version": 3
   },
   "file_extension": ".py",
   "mimetype": "text/x-python",
   "name": "python",
   "nbconvert_exporter": "python",
   "pygments_lexer": "ipython3",
   "version": "3.9.9"
  }
 },
 "nbformat": 4,
 "nbformat_minor": 5
}
