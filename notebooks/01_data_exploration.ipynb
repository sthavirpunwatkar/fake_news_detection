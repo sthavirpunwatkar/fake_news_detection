{
 "cells": [
  {
   "cell_type": "code",
   "execution_count": 1,
   "id": "d695d549-7a8f-4c6c-bfd0-455400e79366",
   "metadata": {},
   "outputs": [],
   "source": [
    "import pandas as pd\n",
    "\n",
    "#display all columns when printing dataframe\n",
    "pd.set_option(\"display.max_columns\", None)\n"
   ]
  },
  {
   "cell_type": "code",
   "execution_count": 9,
   "id": "ca51a0ba-c6fc-4fa9-8bfa-0da732d82ca1",
   "metadata": {},
   "outputs": [
    {
     "name": "stdout",
     "output_type": "stream",
     "text": [
      "True News Shape: (21417, 4)\n",
      "Fake News Shape: (23481, 4)\n"
     ]
    }
   ],
   "source": [
    "#Load dataset\n",
    "true_df = pd.read_csv(\"../data/True.csv\")\n",
    "fake_df = pd.read_csv(\"../data/Fake.csv\")\n",
    "\n",
    "print(\"True News Shape:\", true_df.shape)\n",
    "print(\"Fake News Shape:\", fake_df.shape)\n"
   ]
  },
  {
   "cell_type": "code",
   "execution_count": 11,
   "id": "31babbdf-b018-46f0-9fec-325f629b8cda",
   "metadata": {},
   "outputs": [],
   "source": [
    "true_df[\"label\"] =1   # 1 = real \n",
    "fake_df[\"label\"] =0   # 0 = fake"
   ]
  },
  {
   "cell_type": "code",
   "execution_count": 12,
   "id": "f578fbf0-c0d3-4558-9529-2373f31ab1ee",
   "metadata": {},
   "outputs": [
    {
     "data": {
      "text/html": [
       "<div>\n",
       "<style scoped>\n",
       "    .dataframe tbody tr th:only-of-type {\n",
       "        vertical-align: middle;\n",
       "    }\n",
       "\n",
       "    .dataframe tbody tr th {\n",
       "        vertical-align: top;\n",
       "    }\n",
       "\n",
       "    .dataframe thead th {\n",
       "        text-align: right;\n",
       "    }\n",
       "</style>\n",
       "<table border=\"1\" class=\"dataframe\">\n",
       "  <thead>\n",
       "    <tr style=\"text-align: right;\">\n",
       "      <th></th>\n",
       "      <th>title</th>\n",
       "      <th>text</th>\n",
       "      <th>subject</th>\n",
       "      <th>date</th>\n",
       "      <th>label</th>\n",
       "    </tr>\n",
       "  </thead>\n",
       "  <tbody>\n",
       "    <tr>\n",
       "      <th>0</th>\n",
       "      <td>Boiler Room #93 – The Outgoing Head of Hydra</td>\n",
       "      <td>Tune in to the Alternate Current Radio Network...</td>\n",
       "      <td>US_News</td>\n",
       "      <td>January 19, 2017</td>\n",
       "      <td>0</td>\n",
       "    </tr>\n",
       "    <tr>\n",
       "      <th>1</th>\n",
       "      <td>Britain's May heads to Middle East</td>\n",
       "      <td>LONDON (Reuters) - British Prime Minister Ther...</td>\n",
       "      <td>worldnews</td>\n",
       "      <td>November 28, 2017</td>\n",
       "      <td>1</td>\n",
       "    </tr>\n",
       "    <tr>\n",
       "      <th>2</th>\n",
       "      <td>FAMILY OF S.C. SHOOTING VICTIM HAS A MESSAGE F...</td>\n",
       "      <td>Poor little Al if he s not race baiting, he s ...</td>\n",
       "      <td>politics</td>\n",
       "      <td>Apr 9, 2015</td>\n",
       "      <td>0</td>\n",
       "    </tr>\n",
       "    <tr>\n",
       "      <th>3</th>\n",
       "      <td>Venezuelan crisis spawns boom in gambling</td>\n",
       "      <td>CARACAS (Reuters) -  The Whale ,  The Dog  or ...</td>\n",
       "      <td>worldnews</td>\n",
       "      <td>November 7, 2017</td>\n",
       "      <td>1</td>\n",
       "    </tr>\n",
       "    <tr>\n",
       "      <th>4</th>\n",
       "      <td>N KOREA JUST REVEALED Plans To Unleash An Unim...</td>\n",
       "      <td>WFB  North Korea for the first time this week ...</td>\n",
       "      <td>left-news</td>\n",
       "      <td>Sep 6, 2017</td>\n",
       "      <td>0</td>\n",
       "    </tr>\n",
       "  </tbody>\n",
       "</table>\n",
       "</div>"
      ],
      "text/plain": [
       "                                               title  \\\n",
       "0       Boiler Room #93 – The Outgoing Head of Hydra   \n",
       "1                 Britain's May heads to Middle East   \n",
       "2  FAMILY OF S.C. SHOOTING VICTIM HAS A MESSAGE F...   \n",
       "3          Venezuelan crisis spawns boom in gambling   \n",
       "4  N KOREA JUST REVEALED Plans To Unleash An Unim...   \n",
       "\n",
       "                                                text    subject  \\\n",
       "0  Tune in to the Alternate Current Radio Network...    US_News   \n",
       "1  LONDON (Reuters) - British Prime Minister Ther...  worldnews   \n",
       "2  Poor little Al if he s not race baiting, he s ...   politics   \n",
       "3  CARACAS (Reuters) -  The Whale ,  The Dog  or ...  worldnews   \n",
       "4  WFB  North Korea for the first time this week ...  left-news   \n",
       "\n",
       "                 date  label  \n",
       "0    January 19, 2017      0  \n",
       "1  November 28, 2017       1  \n",
       "2         Apr 9, 2015      0  \n",
       "3   November 7, 2017       1  \n",
       "4         Sep 6, 2017      0  "
      ]
     },
     "execution_count": 12,
     "metadata": {},
     "output_type": "execute_result"
    }
   ],
   "source": [
    "#combine into one dataset\n",
    "news_df = pd.concat([true_df, fake_df], axis =0)\n",
    "news_df = news_df.sample(frac=1).reset_index(drop=True)  #shuffle\n",
    "news_df.head()"
   ]
  },
  {
   "cell_type": "code",
   "execution_count": 13,
   "id": "5b9df756-8d65-414d-91c4-bdefd4141c30",
   "metadata": {},
   "outputs": [
    {
     "name": "stdout",
     "output_type": "stream",
     "text": [
      "<class 'pandas.core.frame.DataFrame'>\n",
      "RangeIndex: 44898 entries, 0 to 44897\n",
      "Data columns (total 5 columns):\n",
      " #   Column   Non-Null Count  Dtype \n",
      "---  ------   --------------  ----- \n",
      " 0   title    44898 non-null  object\n",
      " 1   text     44898 non-null  object\n",
      " 2   subject  44898 non-null  object\n",
      " 3   date     44898 non-null  object\n",
      " 4   label    44898 non-null  int64 \n",
      "dtypes: int64(1), object(4)\n",
      "memory usage: 1.7+ MB\n"
     ]
    }
   ],
   "source": [
    "news_df.info()"
   ]
  },
  {
   "cell_type": "code",
   "execution_count": 14,
   "id": "fb6d7a3f-cb55-458d-9b28-ca54966900b6",
   "metadata": {},
   "outputs": [
    {
     "data": {
      "text/html": [
       "<div>\n",
       "<style scoped>\n",
       "    .dataframe tbody tr th:only-of-type {\n",
       "        vertical-align: middle;\n",
       "    }\n",
       "\n",
       "    .dataframe tbody tr th {\n",
       "        vertical-align: top;\n",
       "    }\n",
       "\n",
       "    .dataframe thead th {\n",
       "        text-align: right;\n",
       "    }\n",
       "</style>\n",
       "<table border=\"1\" class=\"dataframe\">\n",
       "  <thead>\n",
       "    <tr style=\"text-align: right;\">\n",
       "      <th></th>\n",
       "      <th>label</th>\n",
       "    </tr>\n",
       "  </thead>\n",
       "  <tbody>\n",
       "    <tr>\n",
       "      <th>count</th>\n",
       "      <td>44898.000000</td>\n",
       "    </tr>\n",
       "    <tr>\n",
       "      <th>mean</th>\n",
       "      <td>0.477015</td>\n",
       "    </tr>\n",
       "    <tr>\n",
       "      <th>std</th>\n",
       "      <td>0.499477</td>\n",
       "    </tr>\n",
       "    <tr>\n",
       "      <th>min</th>\n",
       "      <td>0.000000</td>\n",
       "    </tr>\n",
       "    <tr>\n",
       "      <th>25%</th>\n",
       "      <td>0.000000</td>\n",
       "    </tr>\n",
       "    <tr>\n",
       "      <th>50%</th>\n",
       "      <td>0.000000</td>\n",
       "    </tr>\n",
       "    <tr>\n",
       "      <th>75%</th>\n",
       "      <td>1.000000</td>\n",
       "    </tr>\n",
       "    <tr>\n",
       "      <th>max</th>\n",
       "      <td>1.000000</td>\n",
       "    </tr>\n",
       "  </tbody>\n",
       "</table>\n",
       "</div>"
      ],
      "text/plain": [
       "              label\n",
       "count  44898.000000\n",
       "mean       0.477015\n",
       "std        0.499477\n",
       "min        0.000000\n",
       "25%        0.000000\n",
       "50%        0.000000\n",
       "75%        1.000000\n",
       "max        1.000000"
      ]
     },
     "execution_count": 14,
     "metadata": {},
     "output_type": "execute_result"
    }
   ],
   "source": [
    "news_df.describe()"
   ]
  },
  {
   "cell_type": "code",
   "execution_count": 15,
   "id": "30993ade-82a1-4422-bdf9-3bc3581af24a",
   "metadata": {},
   "outputs": [
    {
     "data": {
      "text/plain": [
       "title      0\n",
       "text       0\n",
       "subject    0\n",
       "date       0\n",
       "label      0\n",
       "dtype: int64"
      ]
     },
     "execution_count": 15,
     "metadata": {},
     "output_type": "execute_result"
    }
   ],
   "source": [
    "news_df.isnull().sum()"
   ]
  },
  {
   "cell_type": "code",
   "execution_count": 16,
   "id": "33423ba4-3f03-4a05-a1c2-3d9c4a7ce1d4",
   "metadata": {},
   "outputs": [
    {
     "name": "stdout",
     "output_type": "stream",
     "text": [
      "Real News Example:\n",
      " Britain's May heads to Middle East\n",
      "\n",
      "Fake News Example:\n",
      " Boiler Room #93 – The Outgoing Head of Hydra\n"
     ]
    }
   ],
   "source": [
    "print(\"Real News Example:\\n\", news_df[news_df[\"label\"]==1][\"title\"].iloc[0])\n",
    "print(\"\\nFake News Example:\\n\", news_df[news_df[\"label\"]==0][\"title\"].iloc[0])\n"
   ]
  },
  {
   "cell_type": "code",
   "execution_count": 19,
   "id": "6258b14b-89c3-4ca2-bc98-ecd064fa8d3a",
   "metadata": {},
   "outputs": [
    {
     "data": {
      "image/png": "[encoded data removed]",
      "text/plain": [
       "<Figure size 640x480 with 1 Axes>"
      ]
     },
     "metadata": {},
     "output_type": "display_data"
    }
   ],
   "source": [
    "import matplotlib.pyplot as plt\n",
    "\n",
    "news_df[\"label\"].value_counts().plot(kind=\"bar\", color=[\"red\",\"green\"])\n",
    "plt.xticks([0,1], [\"Fake\", \"Real\"])\n",
    "plt.title(\"News Distribution\")\n",
    "plt.show()"
   ]
  },
  {
   "cell_type": "code",
   "execution_count": 21,
   "id": "a5d0926f-4025-4c42-aa3b-b28c32bbc210",
   "metadata": {},
   "outputs": [],
   "source": [
    "#save datset\n",
    "news_df.to_csv(\"../data/combined_news.csv\", index=False)"
   ]
  }
 ],
 "metadata": {
  "kernelspec": {
   "display_name": "Python 3 (ipykernel)",
   "language": "python",
   "name": "python3"
  },
  "language_info": {
   "codemirror_mode": {
    "name": "ipython",
    "version": 3
   },
   "file_extension": ".py",
   "mimetype": "text/x-python",
   "name": "python",
   "nbconvert_exporter": "python",
   "pygments_lexer": "ipython3",
   "version": "3.9.9"
  }
 },
 "nbformat": 4,
 "nbformat_minor": 5
}
